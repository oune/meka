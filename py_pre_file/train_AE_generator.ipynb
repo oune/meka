{
 "cells": [
  {
   "cell_type": "markdown",
   "metadata": {},
   "source": [
    "#### Import Module"
   ]
  },
  {
   "cell_type": "code",
   "execution_count": 4,
   "metadata": {},
   "outputs": [],
   "source": [
    "import pandas as pd\n",
    "import numpy as np\n",
    "from data_generator_AE import DataGenerator\n",
    "import seaborn as sns\n",
    "sns.set(color_codes=True)\n",
    "import matplotlib.pyplot as plt\n",
    "%matplotlib inline \n",
    "import tensorflow as tf\n",
    "tf.compat.v1.logging.set_verbosity(tf.compat.v1.logging.ERROR)\n",
    "\n",
    "from tensorflow.keras.callbacks import EarlyStopping, ModelCheckpoint, ReduceLROnPlateau, CSVLogger\n",
    "from sklearn import metrics\n",
    "from easydict import EasyDict\n",
    "import time\n",
    "import os"
   ]
  },
  {
   "cell_type": "markdown",
   "metadata": {},
   "source": [
    "#### GPU Set & Check"
   ]
  },
  {
   "cell_type": "code",
   "execution_count": 5,
   "metadata": {},
   "outputs": [
    {
     "name": "stdout",
     "output_type": "stream",
     "text": [
      "True\n"
     ]
    }
   ],
   "source": [
    "gpus = tf.config.experimental.list_physical_devices('GPU')\n",
    "if gpus:\n",
    "  try:\n",
    "    tf.config.experimental.set_memory_growth(gpus[0], True)\n",
    "    print(tf.test.is_gpu_available())\n",
    "  except RuntimeError as e:\n",
    "    # 프로그램 시작시에 메모리 증가가 설정되어야만 합니다\n",
    "    print(e)"
   ]
  },
  {
   "cell_type": "markdown",
   "metadata": {},
   "source": [
    "#### Set argument"
   ]
  },
  {
   "cell_type": "code",
   "execution_count": 6,
   "metadata": {},
   "outputs": [],
   "source": [
    "args = EasyDict({\n",
    "    'dir_path' : r\"D:\\Anomaly-Dataset\", ## 1: C:\\Users\\VIP444\\Documents\\Anomaly-Dataset, 2: D:\\Anomaly-Dataset\\sar400_vibration_data\n",
    "    'train_mode' : (\"Train\", \"Validation\", \"Test\"),\n",
    "    'batch_size' : 128,\n",
    "    'split' : (0.8, 0.1, 0.1),\n",
    "    'is_cache' : True,\n",
    "    'is_predict' : True,\n",
    "    'is_normalize' : False,\n",
    "    'is_lstm' : True,\n",
    "    'is_adjust_fit' : (True, False),\n",
    "    'model_name' : 'LSTM'\n",
    "})"
   ]
  },
  {
   "cell_type": "markdown",
   "metadata": {},
   "source": [
    "#### DataGenerator"
   ]
  },
  {
   "cell_type": "code",
   "execution_count": 7,
   "metadata": {},
   "outputs": [],
   "source": [
    "train_dataset = DataGenerator(\n",
    "    dataset_path=args.dir_path,\n",
    "    train_mode=args.train_mode[0],\n",
    "    batch_size=args.batch_size,\n",
    "    split=args.split,\n",
    "    is_cache=args.is_cache,\n",
    "    is_normalize=args.is_normalize,\n",
    "    is_lstm=args.is_lstm,\n",
    "    is_adjust_fit=args.is_adjust_fit[0]\n",
    ")\n",
    "\n",
    "train_dataset.__getitem__(0)\n",
    "pipeline = train_dataset.pipeline\n",
    "\n",
    "validation_dataset = DataGenerator(\n",
    "    dataset_path=args.dir_path,\n",
    "    train_mode=args.train_mode[1],\n",
    "    batch_size=args.batch_size,\n",
    "    split=args.split,\n",
    "    is_cache=args.is_cache,\n",
    "    is_normalize=args.is_normalize,\n",
    "    is_lstm=args.is_lstm,\n",
    "    is_adjust_fit=args.is_adjust_fit[1],\n",
    "    pipeline=pipeline\n",
    ")\n",
    "\n",
    "test_dataset = DataGenerator(\n",
    "    dataset_path=args.dir_path,\n",
    "    train_mode=args.train_mode[2],\n",
    "    batch_size=args.batch_size,\n",
    "    split=args.split,\n",
    "    is_cache=args.is_cache,\n",
    "    is_normalize=args.is_normalize,\n",
    "    is_lstm=args.is_lstm,\n",
    "    is_predict=args.is_predict,\n",
    "    is_adjust_fit=args.is_adjust_fit[1],\n",
    "    pipeline=pipeline\n",
    ")"
   ]
  },
  {
   "cell_type": "markdown",
   "metadata": {},
   "source": [
    "#### Check dataset length"
   ]
  },
  {
   "cell_type": "code",
   "execution_count": 8,
   "metadata": {},
   "outputs": [
    {
     "name": "stdout",
     "output_type": "stream",
     "text": [
      "6252\n",
      "781\n",
      "5059\n"
     ]
    }
   ],
   "source": [
    "print(len(train_dataset.data_paths))\n",
    "print(len(validation_dataset.data_paths))\n",
    "print(len(test_dataset.data_paths))"
   ]
  },
  {
   "cell_type": "markdown",
   "metadata": {},
   "source": [
    "#### Model Create & Compile"
   ]
  },
  {
   "cell_type": "code",
   "execution_count": 9,
   "metadata": {},
   "outputs": [
    {
     "name": "stdout",
     "output_type": "stream",
     "text": [
      "Model: \"model\"\n",
      "_________________________________________________________________\n",
      "Layer (type)                 Output Shape              Param #   \n",
      "=================================================================\n",
      "input_1 (InputLayer)         [(None, 1, 4)]            0         \n",
      "_________________________________________________________________\n",
      "lstm (LSTM)                  (None, 1, 64)             17664     \n",
      "_________________________________________________________________\n",
      "lstm_1 (LSTM)                (None, 32)                12416     \n",
      "_________________________________________________________________\n",
      "repeat_vector (RepeatVector) (None, 1, 32)             0         \n",
      "_________________________________________________________________\n",
      "lstm_2 (LSTM)                (None, 1, 32)             8320      \n",
      "_________________________________________________________________\n",
      "lstm_3 (LSTM)                (None, 1, 64)             24832     \n",
      "_________________________________________________________________\n",
      "time_distributed (TimeDistri (None, 1, 4)              260       \n",
      "=================================================================\n",
      "Total params: 63,492\n",
      "Trainable params: 63,492\n",
      "Non-trainable params: 0\n",
      "_________________________________________________________________\n"
     ]
    }
   ],
   "source": [
    "from ae_LSTM import autoencoder_model\n",
    "# from models.ae_Dense import autoencoder_model\n",
    "from tensorflow.keras.optimizers import Adam\n",
    "from tensorflow.keras.losses import Huber\n",
    "\n",
    "if args.is_lstm:\n",
    "    input_shape = (1, 4)\n",
    "else:\n",
    "    input_shape = (4, )\n",
    "\n",
    "model = autoencoder_model(input_shape)\n",
    "model.compile(optimizer=Adam(learning_rate=1e-3), loss=Huber(), metrics=['mse'])\n",
    "model.summary()"
   ]
  },
  {
   "cell_type": "markdown",
   "metadata": {},
   "source": [
    "#### Model Train"
   ]
  },
  {
   "cell_type": "code",
   "execution_count": 69,
   "metadata": {},
   "outputs": [
    {
     "name": "stdout",
     "output_type": "stream",
     "text": [
      "Epoch 1/100\n",
      "25/25 [==============================] - 3s 36ms/step - loss: 0.9312 - mse: 3.0028 - val_loss: 0.9074 - val_mse: 2.9111\n",
      "\n",
      "Epoch 00001: val_loss improved from inf to 0.90745, saving model to ./training_logs/2022-07-18-153743-LSTM/model\\checkpoint.pt\n",
      "Epoch 2/100\n",
      "25/25 [==============================] - 1s 22ms/step - loss: 0.8912 - mse: 2.8551 - val_loss: 0.8379 - val_mse: 2.6553\n",
      "\n",
      "Epoch 00002: val_loss improved from 0.90745 to 0.83786, saving model to ./training_logs/2022-07-18-153743-LSTM/model\\checkpoint.pt\n",
      "Epoch 3/100\n",
      "25/25 [==============================] - 0s 20ms/step - loss: 0.6462 - mse: 1.9574 - val_loss: 0.4722 - val_mse: 1.2950\n",
      "\n",
      "Epoch 00003: val_loss improved from 0.83786 to 0.47221, saving model to ./training_logs/2022-07-18-153743-LSTM/model\\checkpoint.pt\n",
      "Epoch 4/100\n",
      "25/25 [==============================] - 0s 19ms/step - loss: 0.3497 - mse: 0.9029 - val_loss: 0.2268 - val_mse: 0.5562\n",
      "\n",
      "Epoch 00004: val_loss improved from 0.47221 to 0.22678, saving model to ./training_logs/2022-07-18-153743-LSTM/model\\checkpoint.pt\n",
      "Epoch 5/100\n",
      "25/25 [==============================] - 0s 19ms/step - loss: 0.1539 - mse: 0.3692 - val_loss: 0.1090 - val_mse: 0.2259\n",
      "\n",
      "Epoch 00005: val_loss improved from 0.22678 to 0.10900, saving model to ./training_logs/2022-07-18-153743-LSTM/model\\checkpoint.pt\n",
      "Epoch 6/100\n",
      "25/25 [==============================] - 0s 19ms/step - loss: 0.0945 - mse: 0.1929 - val_loss: 0.0979 - val_mse: 0.2041\n",
      "\n",
      "Epoch 00006: val_loss improved from 0.10900 to 0.09794, saving model to ./training_logs/2022-07-18-153743-LSTM/model\\checkpoint.pt\n",
      "Epoch 7/100\n",
      "25/25 [==============================] - 0s 19ms/step - loss: 0.0909 - mse: 0.1863 - val_loss: 0.0959 - val_mse: 0.1994\n",
      "\n",
      "Epoch 00007: val_loss improved from 0.09794 to 0.09593, saving model to ./training_logs/2022-07-18-153743-LSTM/model\\checkpoint.pt\n",
      "Epoch 8/100\n",
      "25/25 [==============================] - 0s 18ms/step - loss: 0.0894 - mse: 0.1831 - val_loss: 0.0949 - val_mse: 0.1975\n",
      "\n",
      "Epoch 00008: val_loss improved from 0.09593 to 0.09491, saving model to ./training_logs/2022-07-18-153743-LSTM/model\\checkpoint.pt\n",
      "Epoch 9/100\n",
      "25/25 [==============================] - 0s 19ms/step - loss: 0.0876 - mse: 0.1794 - val_loss: 0.0927 - val_mse: 0.1930\n",
      "\n",
      "Epoch 00009: val_loss improved from 0.09491 to 0.09268, saving model to ./training_logs/2022-07-18-153743-LSTM/model\\checkpoint.pt\n",
      "Epoch 10/100\n",
      "25/25 [==============================] - 0s 19ms/step - loss: 0.0829 - mse: 0.1698 - val_loss: 0.0855 - val_mse: 0.1776\n",
      "\n",
      "Epoch 00010: val_loss improved from 0.09268 to 0.08547, saving model to ./training_logs/2022-07-18-153743-LSTM/model\\checkpoint.pt\n",
      "Epoch 11/100\n",
      "25/25 [==============================] - 0s 19ms/step - loss: 0.0682 - mse: 0.1396 - val_loss: 0.0615 - val_mse: 0.1282\n",
      "\n",
      "Epoch 00011: val_loss improved from 0.08547 to 0.06151, saving model to ./training_logs/2022-07-18-153743-LSTM/model\\checkpoint.pt\n",
      "Epoch 12/100\n",
      "25/25 [==============================] - 0s 19ms/step - loss: 0.0421 - mse: 0.0860 - val_loss: 0.0493 - val_mse: 0.1017\n",
      "\n",
      "Epoch 00012: val_loss improved from 0.06151 to 0.04930, saving model to ./training_logs/2022-07-18-153743-LSTM/model\\checkpoint.pt\n",
      "Epoch 13/100\n",
      "25/25 [==============================] - 0s 19ms/step - loss: 0.0378 - mse: 0.0767 - val_loss: 0.0480 - val_mse: 0.0992\n",
      "\n",
      "Epoch 00013: val_loss improved from 0.04930 to 0.04799, saving model to ./training_logs/2022-07-18-153743-LSTM/model\\checkpoint.pt\n",
      "Epoch 14/100\n",
      "25/25 [==============================] - 0s 18ms/step - loss: 0.0368 - mse: 0.0746 - val_loss: 0.0462 - val_mse: 0.0943\n",
      "\n",
      "Epoch 00014: val_loss improved from 0.04799 to 0.04618, saving model to ./training_logs/2022-07-18-153743-LSTM/model\\checkpoint.pt\n",
      "Epoch 15/100\n",
      "25/25 [==============================] - 0s 19ms/step - loss: 0.0358 - mse: 0.0723 - val_loss: 0.0447 - val_mse: 0.0911\n",
      "\n",
      "Epoch 00015: val_loss improved from 0.04618 to 0.04474, saving model to ./training_logs/2022-07-18-153743-LSTM/model\\checkpoint.pt\n",
      "Epoch 16/100\n",
      "25/25 [==============================] - 0s 19ms/step - loss: 0.0348 - mse: 0.0700 - val_loss: 0.0427 - val_mse: 0.0864\n",
      "\n",
      "Epoch 00016: val_loss improved from 0.04474 to 0.04267, saving model to ./training_logs/2022-07-18-153743-LSTM/model\\checkpoint.pt\n",
      "Epoch 17/100\n",
      "25/25 [==============================] - 0s 19ms/step - loss: 0.0330 - mse: 0.0662 - val_loss: 0.0397 - val_mse: 0.0800\n",
      "\n",
      "Epoch 00017: val_loss improved from 0.04267 to 0.03974, saving model to ./training_logs/2022-07-18-153743-LSTM/model\\checkpoint.pt\n",
      "Epoch 18/100\n",
      "25/25 [==============================] - 0s 19ms/step - loss: 0.0305 - mse: 0.0610 - val_loss: 0.0342 - val_mse: 0.0685\n",
      "\n",
      "Epoch 00018: val_loss improved from 0.03974 to 0.03421, saving model to ./training_logs/2022-07-18-153743-LSTM/model\\checkpoint.pt\n",
      "Epoch 19/100\n",
      "25/25 [==============================] - 0s 19ms/step - loss: 0.0232 - mse: 0.0464 - val_loss: 0.0177 - val_mse: 0.0354\n",
      "\n",
      "Epoch 00019: val_loss improved from 0.03421 to 0.01771, saving model to ./training_logs/2022-07-18-153743-LSTM/model\\checkpoint.pt\n",
      "Epoch 20/100\n",
      "25/25 [==============================] - 0s 18ms/step - loss: 0.0128 - mse: 0.0256 - val_loss: 0.0105 - val_mse: 0.0211\n",
      "\n",
      "Epoch 00020: val_loss improved from 0.01771 to 0.01053, saving model to ./training_logs/2022-07-18-153743-LSTM/model\\checkpoint.pt\n",
      "Epoch 21/100\n",
      "25/25 [==============================] - 0s 18ms/step - loss: 0.0109 - mse: 0.0218 - val_loss: 0.0103 - val_mse: 0.0206\n",
      "\n",
      "Epoch 00021: val_loss improved from 0.01053 to 0.01031, saving model to ./training_logs/2022-07-18-153743-LSTM/model\\checkpoint.pt\n",
      "Epoch 22/100\n",
      "25/25 [==============================] - 0s 19ms/step - loss: 0.0106 - mse: 0.0212 - val_loss: 0.0092 - val_mse: 0.0185\n",
      "\n",
      "Epoch 00022: val_loss improved from 0.01031 to 0.00924, saving model to ./training_logs/2022-07-18-153743-LSTM/model\\checkpoint.pt\n",
      "Epoch 23/100\n",
      "25/25 [==============================] - 0s 19ms/step - loss: 0.0102 - mse: 0.0205 - val_loss: 0.0091 - val_mse: 0.0182\n",
      "\n",
      "Epoch 00023: val_loss improved from 0.00924 to 0.00912, saving model to ./training_logs/2022-07-18-153743-LSTM/model\\checkpoint.pt\n",
      "Epoch 24/100\n",
      "25/25 [==============================] - 0s 18ms/step - loss: 0.0101 - mse: 0.0203 - val_loss: 0.0086 - val_mse: 0.0172\n",
      "\n",
      "Epoch 00024: val_loss improved from 0.00912 to 0.00861, saving model to ./training_logs/2022-07-18-153743-LSTM/model\\checkpoint.pt\n",
      "Epoch 25/100\n",
      "25/25 [==============================] - 0s 20ms/step - loss: 0.0101 - mse: 0.0203 - val_loss: 0.0086 - val_mse: 0.0172\n",
      "\n",
      "Epoch 00025: val_loss improved from 0.00861 to 0.00858, saving model to ./training_logs/2022-07-18-153743-LSTM/model\\checkpoint.pt\n",
      "Epoch 26/100\n",
      "25/25 [==============================] - 0s 18ms/step - loss: 0.0098 - mse: 0.0197 - val_loss: 0.0082 - val_mse: 0.0164\n",
      "\n",
      "Epoch 00026: val_loss improved from 0.00858 to 0.00820, saving model to ./training_logs/2022-07-18-153743-LSTM/model\\checkpoint.pt\n",
      "Epoch 27/100\n",
      "25/25 [==============================] - 0s 19ms/step - loss: 0.0097 - mse: 0.0194 - val_loss: 0.0080 - val_mse: 0.0160\n",
      "\n",
      "Epoch 00027: val_loss improved from 0.00820 to 0.00799, saving model to ./training_logs/2022-07-18-153743-LSTM/model\\checkpoint.pt\n",
      "Epoch 28/100\n",
      "25/25 [==============================] - 0s 19ms/step - loss: 0.0096 - mse: 0.0192 - val_loss: 0.0081 - val_mse: 0.0162\n",
      "\n",
      "Epoch 00028: val_loss did not improve from 0.00799\n",
      "Epoch 29/100\n",
      "25/25 [==============================] - 0s 19ms/step - loss: 0.0095 - mse: 0.0190 - val_loss: 0.0076 - val_mse: 0.0152\n",
      "\n",
      "Epoch 00029: val_loss improved from 0.00799 to 0.00760, saving model to ./training_logs/2022-07-18-153743-LSTM/model\\checkpoint.pt\n",
      "Epoch 30/100\n",
      "25/25 [==============================] - 0s 19ms/step - loss: 0.0092 - mse: 0.0184 - val_loss: 0.0075 - val_mse: 0.0151\n",
      "\n",
      "Epoch 00030: val_loss improved from 0.00760 to 0.00754, saving model to ./training_logs/2022-07-18-153743-LSTM/model\\checkpoint.pt\n",
      "Epoch 31/100\n",
      "25/25 [==============================] - 1s 19ms/step - loss: 0.0090 - mse: 0.0181 - val_loss: 0.0074 - val_mse: 0.0148\n",
      "\n",
      "Epoch 00031: val_loss improved from 0.00754 to 0.00738, saving model to ./training_logs/2022-07-18-153743-LSTM/model\\checkpoint.pt\n",
      "Epoch 32/100\n",
      "25/25 [==============================] - 0s 19ms/step - loss: 0.0088 - mse: 0.0176 - val_loss: 0.0068 - val_mse: 0.0136\n",
      "\n",
      "Epoch 00032: val_loss improved from 0.00738 to 0.00681, saving model to ./training_logs/2022-07-18-153743-LSTM/model\\checkpoint.pt\n",
      "Epoch 33/100\n",
      "25/25 [==============================] - 0s 19ms/step - loss: 0.0084 - mse: 0.0169 - val_loss: 0.0064 - val_mse: 0.0128\n",
      "\n",
      "Epoch 00033: val_loss improved from 0.00681 to 0.00639, saving model to ./training_logs/2022-07-18-153743-LSTM/model\\checkpoint.pt\n",
      "Epoch 34/100\n",
      "25/25 [==============================] - 0s 19ms/step - loss: 0.0081 - mse: 0.0162 - val_loss: 0.0060 - val_mse: 0.0121\n",
      "\n",
      "Epoch 00034: val_loss improved from 0.00639 to 0.00603, saving model to ./training_logs/2022-07-18-153743-LSTM/model\\checkpoint.pt\n",
      "Epoch 35/100\n",
      "25/25 [==============================] - 0s 18ms/step - loss: 0.0074 - mse: 0.0148 - val_loss: 0.0055 - val_mse: 0.0110\n",
      "\n",
      "Epoch 00035: val_loss improved from 0.00603 to 0.00550, saving model to ./training_logs/2022-07-18-153743-LSTM/model\\checkpoint.pt\n",
      "Epoch 36/100\n",
      "25/25 [==============================] - 0s 19ms/step - loss: 0.0065 - mse: 0.0130 - val_loss: 0.0048 - val_mse: 0.0097\n",
      "\n",
      "Epoch 00036: val_loss improved from 0.00550 to 0.00484, saving model to ./training_logs/2022-07-18-153743-LSTM/model\\checkpoint.pt\n",
      "Epoch 37/100\n",
      "25/25 [==============================] - 0s 19ms/step - loss: 0.0051 - mse: 0.0102 - val_loss: 0.0036 - val_mse: 0.0072\n",
      "\n",
      "Epoch 00037: val_loss improved from 0.00484 to 0.00360, saving model to ./training_logs/2022-07-18-153743-LSTM/model\\checkpoint.pt\n",
      "Epoch 38/100\n",
      "25/25 [==============================] - 0s 18ms/step - loss: 0.0032 - mse: 0.0064 - val_loss: 0.0015 - val_mse: 0.0030\n",
      "\n",
      "Epoch 00038: val_loss improved from 0.00360 to 0.00149, saving model to ./training_logs/2022-07-18-153743-LSTM/model\\checkpoint.pt\n",
      "Epoch 39/100\n",
      "25/25 [==============================] - 0s 19ms/step - loss: 0.0017 - mse: 0.0034 - val_loss: 0.0013 - val_mse: 0.0026\n",
      "\n",
      "Epoch 00039: val_loss improved from 0.00149 to 0.00129, saving model to ./training_logs/2022-07-18-153743-LSTM/model\\checkpoint.pt\n",
      "Epoch 40/100\n",
      "25/25 [==============================] - 0s 18ms/step - loss: 0.0015 - mse: 0.0030 - val_loss: 8.6045e-04 - val_mse: 0.0017\n",
      "\n",
      "Epoch 00040: val_loss improved from 0.00129 to 0.00086, saving model to ./training_logs/2022-07-18-153743-LSTM/model\\checkpoint.pt\n",
      "Epoch 41/100\n",
      "25/25 [==============================] - 0s 19ms/step - loss: 0.0011 - mse: 0.0023 - val_loss: 9.3992e-04 - val_mse: 0.0019\n",
      "\n",
      "Epoch 00041: val_loss did not improve from 0.00086\n",
      "Epoch 42/100\n",
      "25/25 [==============================] - 0s 18ms/step - loss: 0.0012 - mse: 0.0025 - val_loss: 6.4907e-04 - val_mse: 0.0013\n",
      "\n",
      "Epoch 00042: val_loss improved from 0.00086 to 0.00065, saving model to ./training_logs/2022-07-18-153743-LSTM/model\\checkpoint.pt\n",
      "Epoch 43/100\n",
      "25/25 [==============================] - 0s 18ms/step - loss: 9.7159e-04 - mse: 0.0019 - val_loss: 6.3774e-04 - val_mse: 0.0013\n",
      "\n",
      "Epoch 00043: val_loss improved from 0.00065 to 0.00064, saving model to ./training_logs/2022-07-18-153743-LSTM/model\\checkpoint.pt\n",
      "Epoch 44/100\n",
      "25/25 [==============================] - 0s 19ms/step - loss: 9.5207e-04 - mse: 0.0019 - val_loss: 8.2624e-04 - val_mse: 0.0017\n",
      "\n",
      "Epoch 00044: val_loss did not improve from 0.00064\n",
      "Epoch 45/100\n",
      "25/25 [==============================] - 0s 18ms/step - loss: 9.2949e-04 - mse: 0.0019 - val_loss: 8.5259e-04 - val_mse: 0.0017\n",
      "\n",
      "Epoch 00045: val_loss did not improve from 0.00064\n",
      "Epoch 46/100\n",
      "25/25 [==============================] - 0s 19ms/step - loss: 8.4838e-04 - mse: 0.0017 - val_loss: 5.9006e-04 - val_mse: 0.0012\n",
      "\n",
      "Epoch 00046: val_loss improved from 0.00064 to 0.00059, saving model to ./training_logs/2022-07-18-153743-LSTM/model\\checkpoint.pt\n",
      "Epoch 47/100\n",
      "25/25 [==============================] - 0s 18ms/step - loss: 8.0726e-04 - mse: 0.0016 - val_loss: 6.2999e-04 - val_mse: 0.0013\n",
      "\n",
      "Epoch 00047: val_loss did not improve from 0.00059\n",
      "Epoch 48/100\n",
      "25/25 [==============================] - 0s 19ms/step - loss: 8.0015e-04 - mse: 0.0016 - val_loss: 5.8913e-04 - val_mse: 0.0012\n",
      "\n",
      "Epoch 00048: val_loss improved from 0.00059 to 0.00059, saving model to ./training_logs/2022-07-18-153743-LSTM/model\\checkpoint.pt\n",
      "\n",
      "Epoch 00048: ReduceLROnPlateau reducing learning rate to 0.000800000037997961.\n",
      "Epoch 49/100\n",
      "25/25 [==============================] - 0s 19ms/step - loss: 8.2324e-04 - mse: 0.0016 - val_loss: 5.2633e-04 - val_mse: 0.0011\n",
      "\n",
      "Epoch 00049: val_loss improved from 0.00059 to 0.00053, saving model to ./training_logs/2022-07-18-153743-LSTM/model\\checkpoint.pt\n",
      "Epoch 50/100\n",
      "25/25 [==============================] - 0s 19ms/step - loss: 8.4599e-04 - mse: 0.0017 - val_loss: 8.1218e-04 - val_mse: 0.0016\n",
      "\n",
      "Epoch 00050: val_loss did not improve from 0.00053\n",
      "Epoch 51/100\n",
      "25/25 [==============================] - 0s 18ms/step - loss: 6.8773e-04 - mse: 0.0014 - val_loss: 5.0035e-04 - val_mse: 0.0010\n",
      "\n",
      "Epoch 00051: val_loss improved from 0.00053 to 0.00050, saving model to ./training_logs/2022-07-18-153743-LSTM/model\\checkpoint.pt\n",
      "Epoch 52/100\n",
      "25/25 [==============================] - 0s 19ms/step - loss: 6.6148e-04 - mse: 0.0013 - val_loss: 5.3109e-04 - val_mse: 0.0011\n",
      "\n",
      "Epoch 00052: val_loss did not improve from 0.00050\n",
      "Epoch 53/100\n",
      "25/25 [==============================] - 0s 19ms/step - loss: 6.3244e-04 - mse: 0.0013 - val_loss: 4.3992e-04 - val_mse: 8.7984e-04\n",
      "\n",
      "Epoch 00053: val_loss improved from 0.00050 to 0.00044, saving model to ./training_logs/2022-07-18-153743-LSTM/model\\checkpoint.pt\n",
      "Epoch 54/100\n",
      "25/25 [==============================] - 0s 19ms/step - loss: 6.2365e-04 - mse: 0.0012 - val_loss: 4.4525e-04 - val_mse: 8.9049e-04\n",
      "\n",
      "Epoch 00054: val_loss did not improve from 0.00044\n",
      "Epoch 55/100\n",
      "25/25 [==============================] - 0s 18ms/step - loss: 6.2548e-04 - mse: 0.0013 - val_loss: 7.3761e-04 - val_mse: 0.0015\n",
      "\n",
      "Epoch 00055: val_loss did not improve from 0.00044\n",
      "\n",
      "Epoch 00055: ReduceLROnPlateau reducing learning rate to 0.0006400000303983689.\n",
      "Epoch 56/100\n",
      "25/25 [==============================] - 0s 19ms/step - loss: 6.9372e-04 - mse: 0.0014 - val_loss: 4.4445e-04 - val_mse: 8.8890e-04\n",
      "\n",
      "Epoch 00056: val_loss did not improve from 0.00044\n",
      "Epoch 57/100\n",
      "25/25 [==============================] - 0s 20ms/step - loss: 6.5600e-04 - mse: 0.0013 - val_loss: 4.4479e-04 - val_mse: 8.8958e-04\n",
      "\n",
      "Epoch 00057: val_loss did not improve from 0.00044\n",
      "Epoch 58/100\n",
      "25/25 [==============================] - 0s 19ms/step - loss: 5.7839e-04 - mse: 0.0012 - val_loss: 4.3231e-04 - val_mse: 8.6462e-04\n",
      "\n",
      "Epoch 00058: val_loss improved from 0.00044 to 0.00043, saving model to ./training_logs/2022-07-18-153743-LSTM/model\\checkpoint.pt\n",
      "Epoch 59/100\n",
      "25/25 [==============================] - 0s 18ms/step - loss: 5.6147e-04 - mse: 0.0011 - val_loss: 5.1594e-04 - val_mse: 0.0010\n",
      "\n",
      "Epoch 00059: val_loss did not improve from 0.00043\n",
      "Epoch 60/100\n",
      "25/25 [==============================] - 0s 18ms/step - loss: 5.5665e-04 - mse: 0.0011 - val_loss: 4.5073e-04 - val_mse: 9.0146e-04\n",
      "\n",
      "Epoch 00060: val_loss did not improve from 0.00043\n",
      "Epoch 61/100\n",
      "25/25 [==============================] - 0s 19ms/step - loss: 5.3676e-04 - mse: 0.0011 - val_loss: 4.9498e-04 - val_mse: 9.8997e-04\n",
      "\n",
      "Epoch 00061: val_loss did not improve from 0.00043\n",
      "\n",
      "Epoch 00061: ReduceLROnPlateau reducing learning rate to 0.0005120000336319208.\n",
      "Epoch 62/100\n",
      "25/25 [==============================] - 0s 19ms/step - loss: 5.4794e-04 - mse: 0.0011 - val_loss: 5.9356e-04 - val_mse: 0.0012\n",
      "\n",
      "Epoch 00062: val_loss did not improve from 0.00043\n",
      "Epoch 63/100\n",
      "25/25 [==============================] - 0s 19ms/step - loss: 4.9517e-04 - mse: 9.9033e-04 - val_loss: 3.7949e-04 - val_mse: 7.5899e-04\n",
      "\n",
      "Epoch 00063: val_loss improved from 0.00043 to 0.00038, saving model to ./training_logs/2022-07-18-153743-LSTM/model\\checkpoint.pt\n",
      "Epoch 64/100\n",
      "25/25 [==============================] - 0s 19ms/step - loss: 4.8416e-04 - mse: 9.6833e-04 - val_loss: 3.7731e-04 - val_mse: 7.5462e-04\n",
      "\n",
      "Epoch 00064: val_loss improved from 0.00038 to 0.00038, saving model to ./training_logs/2022-07-18-153743-LSTM/model\\checkpoint.pt\n",
      "Epoch 65/100\n",
      "25/25 [==============================] - 0s 19ms/step - loss: 4.6420e-04 - mse: 9.2839e-04 - val_loss: 3.3711e-04 - val_mse: 6.7422e-04\n",
      "\n",
      "Epoch 00065: val_loss improved from 0.00038 to 0.00034, saving model to ./training_logs/2022-07-18-153743-LSTM/model\\checkpoint.pt\n",
      "Epoch 66/100\n",
      "25/25 [==============================] - 0s 19ms/step - loss: 4.6445e-04 - mse: 9.2891e-04 - val_loss: 3.6335e-04 - val_mse: 7.2670e-04\n",
      "\n",
      "Epoch 00066: val_loss did not improve from 0.00034\n",
      "Epoch 67/100\n",
      "25/25 [==============================] - 0s 19ms/step - loss: 4.4274e-04 - mse: 8.8548e-04 - val_loss: 3.5213e-04 - val_mse: 7.0427e-04\n",
      "\n",
      "Epoch 00067: val_loss did not improve from 0.00034\n",
      "Epoch 68/100\n",
      "25/25 [==============================] - 0s 18ms/step - loss: 4.4894e-04 - mse: 8.9789e-04 - val_loss: 3.3409e-04 - val_mse: 6.6817e-04\n",
      "\n",
      "Epoch 00068: val_loss improved from 0.00034 to 0.00033, saving model to ./training_logs/2022-07-18-153743-LSTM/model\\checkpoint.pt\n",
      "Epoch 69/100\n",
      "25/25 [==============================] - 0s 18ms/step - loss: 4.3514e-04 - mse: 8.7029e-04 - val_loss: 3.4234e-04 - val_mse: 6.8468e-04\n",
      "\n",
      "Epoch 00069: val_loss did not improve from 0.00033\n",
      "\n",
      "Epoch 00069: ReduceLROnPlateau reducing learning rate to 0.00040960004553198815.\n",
      "Epoch 70/100\n",
      "25/25 [==============================] - 0s 19ms/step - loss: 4.1793e-04 - mse: 8.3587e-04 - val_loss: 3.4808e-04 - val_mse: 6.9616e-04\n",
      "\n",
      "Epoch 00070: val_loss did not improve from 0.00033\n",
      "Epoch 71/100\n",
      "25/25 [==============================] - 0s 18ms/step - loss: 4.2011e-04 - mse: 8.4022e-04 - val_loss: 3.6234e-04 - val_mse: 7.2468e-04\n",
      "\n",
      "Epoch 00071: val_loss did not improve from 0.00033\n",
      "Epoch 72/100\n",
      "25/25 [==============================] - 0s 19ms/step - loss: 4.0434e-04 - mse: 8.0868e-04 - val_loss: 3.1552e-04 - val_mse: 6.3105e-04\n",
      "\n",
      "Epoch 00072: val_loss improved from 0.00033 to 0.00032, saving model to ./training_logs/2022-07-18-153743-LSTM/model\\checkpoint.pt\n",
      "Epoch 73/100\n",
      "25/25 [==============================] - 0s 19ms/step - loss: 3.9938e-04 - mse: 7.9876e-04 - val_loss: 3.7520e-04 - val_mse: 7.5040e-04\n",
      "\n",
      "Epoch 00073: val_loss did not improve from 0.00032\n",
      "Epoch 74/100\n",
      "25/25 [==============================] - 0s 18ms/step - loss: 4.1123e-04 - mse: 8.2245e-04 - val_loss: 3.2646e-04 - val_mse: 6.5292e-04\n",
      "\n",
      "Epoch 00074: val_loss did not improve from 0.00032\n",
      "Epoch 75/100\n",
      "25/25 [==============================] - 0s 18ms/step - loss: 3.8295e-04 - mse: 7.6591e-04 - val_loss: 2.8981e-04 - val_mse: 5.7962e-04\n",
      "\n",
      "Epoch 00075: val_loss improved from 0.00032 to 0.00029, saving model to ./training_logs/2022-07-18-153743-LSTM/model\\checkpoint.pt\n",
      "\n",
      "Epoch 00075: ReduceLROnPlateau reducing learning rate to 0.00032768002711236477.\n",
      "Epoch 76/100\n",
      "25/25 [==============================] - 0s 18ms/step - loss: 3.8254e-04 - mse: 7.6508e-04 - val_loss: 3.3256e-04 - val_mse: 6.6512e-04\n",
      "\n",
      "Epoch 00076: val_loss did not improve from 0.00029\n",
      "Epoch 77/100\n",
      "25/25 [==============================] - 0s 19ms/step - loss: 3.7140e-04 - mse: 7.4281e-04 - val_loss: 3.0800e-04 - val_mse: 6.1600e-04\n",
      "\n",
      "Epoch 00077: val_loss did not improve from 0.00029\n",
      "Epoch 78/100\n",
      "25/25 [==============================] - 0s 18ms/step - loss: 3.6132e-04 - mse: 7.2264e-04 - val_loss: 3.0698e-04 - val_mse: 6.1396e-04\n",
      "\n",
      "Epoch 00078: val_loss did not improve from 0.00029\n",
      "Epoch 79/100\n",
      "25/25 [==============================] - 0s 19ms/step - loss: 3.6167e-04 - mse: 7.2334e-04 - val_loss: 2.7213e-04 - val_mse: 5.4426e-04\n",
      "\n",
      "Epoch 00079: val_loss improved from 0.00029 to 0.00027, saving model to ./training_logs/2022-07-18-153743-LSTM/model\\checkpoint.pt\n",
      "Epoch 80/100\n",
      "25/25 [==============================] - 0s 19ms/step - loss: 3.5984e-04 - mse: 7.1968e-04 - val_loss: 3.3094e-04 - val_mse: 6.6188e-04\n",
      "\n",
      "Epoch 00080: val_loss did not improve from 0.00027\n",
      "Epoch 81/100\n",
      "25/25 [==============================] - 0s 18ms/step - loss: 3.4456e-04 - mse: 6.8911e-04 - val_loss: 2.7985e-04 - val_mse: 5.5971e-04\n",
      "\n",
      "Epoch 00081: val_loss did not improve from 0.00027\n",
      "Epoch 82/100\n",
      "25/25 [==============================] - 0s 19ms/step - loss: 3.4161e-04 - mse: 6.8321e-04 - val_loss: 2.7149e-04 - val_mse: 5.4298e-04\n",
      "\n",
      "Epoch 00082: val_loss improved from 0.00027 to 0.00027, saving model to ./training_logs/2022-07-18-153743-LSTM/model\\checkpoint.pt\n",
      "Epoch 83/100\n",
      "25/25 [==============================] - 0s 18ms/step - loss: 3.3940e-04 - mse: 6.7880e-04 - val_loss: 2.7924e-04 - val_mse: 5.5848e-04\n",
      "\n",
      "Epoch 00083: val_loss did not improve from 0.00027\n",
      "Epoch 84/100\n",
      "25/25 [==============================] - 0s 18ms/step - loss: 3.3359e-04 - mse: 6.6718e-04 - val_loss: 2.8332e-04 - val_mse: 5.6664e-04\n",
      "\n",
      "Epoch 00084: val_loss did not improve from 0.00027\n",
      "Epoch 85/100\n",
      "25/25 [==============================] - 0s 19ms/step - loss: 3.2997e-04 - mse: 6.5994e-04 - val_loss: 2.9641e-04 - val_mse: 5.9281e-04\n",
      "\n",
      "Epoch 00085: val_loss did not improve from 0.00027\n",
      "\n",
      "Epoch 00085: ReduceLROnPlateau reducing learning rate to 0.0002621440216898918.\n",
      "Epoch 86/100\n",
      "25/25 [==============================] - 0s 19ms/step - loss: 3.1565e-04 - mse: 6.3131e-04 - val_loss: 2.6527e-04 - val_mse: 5.3054e-04\n",
      "\n",
      "Epoch 00086: val_loss improved from 0.00027 to 0.00027, saving model to ./training_logs/2022-07-18-153743-LSTM/model\\checkpoint.pt\n",
      "Epoch 87/100\n",
      "25/25 [==============================] - 0s 19ms/step - loss: 3.3613e-04 - mse: 6.7226e-04 - val_loss: 3.0464e-04 - val_mse: 6.0929e-04\n",
      "\n",
      "Epoch 00087: val_loss did not improve from 0.00027\n",
      "Epoch 88/100\n",
      "25/25 [==============================] - 0s 19ms/step - loss: 3.0986e-04 - mse: 6.1972e-04 - val_loss: 2.3779e-04 - val_mse: 4.7559e-04\n",
      "\n",
      "Epoch 00088: val_loss improved from 0.00027 to 0.00024, saving model to ./training_logs/2022-07-18-153743-LSTM/model\\checkpoint.pt\n",
      "Epoch 89/100\n",
      "25/25 [==============================] - 0s 19ms/step - loss: 3.1260e-04 - mse: 6.2520e-04 - val_loss: 2.5511e-04 - val_mse: 5.1023e-04\n",
      "\n",
      "Epoch 00089: val_loss did not improve from 0.00024\n",
      "Epoch 90/100\n",
      "25/25 [==============================] - 0s 19ms/step - loss: 3.0925e-04 - mse: 6.1850e-04 - val_loss: 2.6126e-04 - val_mse: 5.2252e-04\n",
      "\n",
      "Epoch 00090: val_loss did not improve from 0.00024\n",
      "Epoch 91/100\n",
      "25/25 [==============================] - 0s 19ms/step - loss: 3.0687e-04 - mse: 6.1374e-04 - val_loss: 3.2121e-04 - val_mse: 6.4242e-04\n",
      "\n",
      "Epoch 00091: val_loss did not improve from 0.00024\n",
      "\n",
      "Epoch 00091: ReduceLROnPlateau reducing learning rate to 0.00020971521735191345.\n",
      "Epoch 92/100\n",
      "25/25 [==============================] - 0s 20ms/step - loss: 2.9458e-04 - mse: 5.8915e-04 - val_loss: 2.4799e-04 - val_mse: 4.9599e-04\n",
      "\n",
      "Epoch 00092: val_loss did not improve from 0.00024\n",
      "Epoch 93/100\n",
      "25/25 [==============================] - 0s 19ms/step - loss: 2.8890e-04 - mse: 5.7780e-04 - val_loss: 2.8086e-04 - val_mse: 5.6172e-04\n",
      "\n",
      "Epoch 00093: val_loss did not improve from 0.00024\n",
      "Epoch 94/100\n",
      "25/25 [==============================] - 0s 18ms/step - loss: 2.8688e-04 - mse: 5.7377e-04 - val_loss: 2.3274e-04 - val_mse: 4.6548e-04\n",
      "\n",
      "Epoch 00094: val_loss improved from 0.00024 to 0.00023, saving model to ./training_logs/2022-07-18-153743-LSTM/model\\checkpoint.pt\n",
      "Epoch 95/100\n",
      "25/25 [==============================] - 0s 19ms/step - loss: 2.8471e-04 - mse: 5.6941e-04 - val_loss: 2.2879e-04 - val_mse: 4.5758e-04\n",
      "\n",
      "Epoch 00095: val_loss improved from 0.00023 to 0.00023, saving model to ./training_logs/2022-07-18-153743-LSTM/model\\checkpoint.pt\n",
      "Epoch 96/100\n",
      "25/25 [==============================] - 0s 18ms/step - loss: 2.7845e-04 - mse: 5.5690e-04 - val_loss: 2.2790e-04 - val_mse: 4.5579e-04\n",
      "\n",
      "Epoch 00096: val_loss improved from 0.00023 to 0.00023, saving model to ./training_logs/2022-07-18-153743-LSTM/model\\checkpoint.pt\n",
      "Epoch 97/100\n",
      "25/25 [==============================] - 0s 19ms/step - loss: 2.6898e-04 - mse: 5.3796e-04 - val_loss: 2.2530e-04 - val_mse: 4.5060e-04\n",
      "\n",
      "Epoch 00097: val_loss improved from 0.00023 to 0.00023, saving model to ./training_logs/2022-07-18-153743-LSTM/model\\checkpoint.pt\n",
      "\n",
      "Epoch 00097: ReduceLROnPlateau reducing learning rate to 0.00016777217388153076.\n",
      "Epoch 98/100\n",
      "25/25 [==============================] - 0s 19ms/step - loss: 2.6780e-04 - mse: 5.3559e-04 - val_loss: 2.1848e-04 - val_mse: 4.3697e-04\n",
      "\n",
      "Epoch 00098: val_loss improved from 0.00023 to 0.00022, saving model to ./training_logs/2022-07-18-153743-LSTM/model\\checkpoint.pt\n",
      "Epoch 99/100\n",
      "25/25 [==============================] - 0s 19ms/step - loss: 2.6237e-04 - mse: 5.2473e-04 - val_loss: 2.1671e-04 - val_mse: 4.3342e-04\n",
      "\n",
      "Epoch 00099: val_loss improved from 0.00022 to 0.00022, saving model to ./training_logs/2022-07-18-153743-LSTM/model\\checkpoint.pt\n",
      "Epoch 100/100\n",
      "25/25 [==============================] - 0s 20ms/step - loss: 2.6001e-04 - mse: 5.2001e-04 - val_loss: 2.0824e-04 - val_mse: 4.1648e-04\n",
      "\n",
      "Epoch 00100: val_loss improved from 0.00022 to 0.00021, saving model to ./training_logs/2022-07-18-153743-LSTM/model\\checkpoint.pt\n"
     ]
    }
   ],
   "source": [
    "epochs = 100\n",
    "\n",
    "EXPERIMENT_DIR = f\"./training_logs/{time.strftime('%Y-%m-%d-%H%M%S')}-{args.model_name}\"\n",
    "os.makedirs(EXPERIMENT_DIR, exist_ok=True)\n",
    "\n",
    "checkpoint_path = EXPERIMENT_DIR + \"/model/checkpoint.pt\"\n",
    "os.makedirs(EXPERIMENT_DIR + \"/model\", exist_ok=True)\n",
    "\n",
    "callbacks = [\n",
    "    # EarlyStopping(monitor='val_loss', patience=7, verbose=1),\n",
    "    ModelCheckpoint(filepath=checkpoint_path, monitor='val_loss', verbose=1, save_best_only=True, save_weights_only=True),\n",
    "    ReduceLROnPlateau(monitor='val_loss', factor=0.8, patience=6,verbose=1, min_lr=1e-3 * 1e-1),\n",
    "    CSVLogger(EXPERIMENT_DIR + '/train_log.csv', separator=',', append=True),\n",
    "    ]\n",
    "\n",
    "history = model.fit(train_dataset, validation_data=(validation_dataset), epochs=epochs, batch_size=args.batch_size, callbacks=callbacks).history\n",
    "model.load_weights(checkpoint_path)\n",
    "model.save(EXPERIMENT_DIR + \"/model/model.h5\")"
   ]
  },
  {
   "cell_type": "markdown",
   "metadata": {},
   "source": [
    "#### Visualize Learning Tendency"
   ]
  },
  {
   "cell_type": "code",
   "execution_count": 70,
   "metadata": {},
   "outputs": [
    {
     "data": {
      "image/png": "[encoded data removed]",
      "text/plain": [
       "<Figure size 1120x480 with 1 Axes>"
      ]
     },
     "metadata": {
      "needs_background": "light"
     },
     "output_type": "display_data"
    }
   ],
   "source": [
    "fig, ax = plt.subplots(figsize=(14, 6), dpi=80)\n",
    "ax.plot(history['loss'], 'b', label='Train_loss', linewidth=2)\n",
    "ax.plot(history['val_loss'], 'r', label='Validation_loss', linewidth=2)\n",
    "ax.set_title('Model Loss', fontsize=16)\n",
    "ax.set_ylabel('loss')\n",
    "ax.set_xlabel('Epoch')\n",
    "ax.legend(loc='upper right')\n",
    "plt.show()"
   ]
  },
  {
   "cell_type": "markdown",
   "metadata": {},
   "source": [
    "#### Model evaluate"
   ]
  },
  {
   "cell_type": "code",
   "execution_count": null,
   "metadata": {},
   "outputs": [],
   "source": [
    "loss = model.evaluate(test_dataset, verbose=1)\n",
    "print(loss)"
   ]
  },
  {
   "cell_type": "markdown",
   "metadata": {},
   "source": [
    "#### Predict Test dataset"
   ]
  },
  {
   "cell_type": "code",
   "execution_count": 71,
   "metadata": {},
   "outputs": [
    {
     "name": "stdout",
     "output_type": "stream",
     "text": [
      "20/20 [==============================] - 0s 3ms/step\n",
      "(5059, 1, 4)\n"
     ]
    }
   ],
   "source": [
    "predict = model.predict(test_dataset, verbose=1)\n",
    "print(predict.shape)"
   ]
  },
  {
   "cell_type": "markdown",
   "metadata": {},
   "source": [
    "#### Predict Validation dataset for calculate threshold"
   ]
  },
  {
   "cell_type": "code",
   "execution_count": 72,
   "metadata": {},
   "outputs": [
    {
     "name": "stdout",
     "output_type": "stream",
     "text": [
      "4/4 [==============================] - 0s 0s/step\n",
      "(781, 1, 4)\n"
     ]
    }
   ],
   "source": [
    "validation_dataset.is_predict = True\n",
    "predict_val = model.predict(validation_dataset, verbose=1)\n",
    "print(predict_val.shape)"
   ]
  },
  {
   "cell_type": "markdown",
   "metadata": {},
   "source": [
    "#### Predict data reshape for analysis"
   ]
  },
  {
   "cell_type": "code",
   "execution_count": 73,
   "metadata": {},
   "outputs": [
    {
     "name": "stdout",
     "output_type": "stream",
     "text": [
      "(5059, 4)\n",
      "(781, 4)\n"
     ]
    }
   ],
   "source": [
    "predict = predict.reshape(predict.shape[0], predict.shape[2])\n",
    "predict_val = predict_val.reshape(predict_val.shape[0], predict_val.shape[2])\n",
    "\n",
    "print(predict.shape)\n",
    "print(predict_val.shape)"
   ]
  },
  {
   "cell_type": "markdown",
   "metadata": {},
   "source": [
    "#### Load original validation data"
   ]
  },
  {
   "cell_type": "code",
   "execution_count": 74,
   "metadata": {},
   "outputs": [],
   "source": [
    "keys = list(train_dataset.cache.keys())\n",
    "\n",
    "train_data = np.array([row for key in keys for row in train_dataset.cache[key][0]])\n",
    "train_data = train_data.reshape(train_data.shape[0], train_data.shape[2])[:,0]\n",
    "\n",
    "keys = list(validation_dataset.cache.keys())\n",
    "\n",
    "validation_data = np.array([row for key in keys for row in validation_dataset.cache[key][0]])\n",
    "validation_data = validation_data.reshape(validation_data.shape[0], validation_data.shape[2])\n",
    "\n",
    "keys = list(test_dataset.cache.keys())\n",
    "\n",
    "test_data = np.array([row for key in keys for row in test_dataset.cache[key]])\n",
    "test_data = test_data.reshape(test_data.shape[0], test_data.shape[2])\n",
    "\n",
    "# display_data(train_data, validation_data, test_data)"
   ]
  },
  {
   "cell_type": "markdown",
   "metadata": {},
   "source": [
    "#### Calculate threshold use precision_recall_curve"
   ]
  },
  {
   "cell_type": "code",
   "execution_count": 77,
   "metadata": {},
   "outputs": [
    {
     "name": "stdout",
     "output_type": "stream",
     "text": [
      "1.0\n",
      "1.0\n",
      "3.601933811906986e-06\n"
     ]
    },
    {
     "data": {
      "image/png": "[encoded data removed]",
      "text/plain": [
       "<Figure size 576x360 with 1 Axes>"
      ]
     },
     "metadata": {
      "needs_background": "light"
     },
     "output_type": "display_data"
    }
   ],
   "source": [
    "mse = np.mean(np.power(validation_data - predict_val, 2), axis=1)\n",
    "mae = np.mean(np.abs(validation_data - predict_val), axis=1)\n",
    "\n",
    "test_mse = np.mean(np.power(test_data - predict, 2), axis=1)\n",
    "test_mae = np.mean(np.abs(test_data - predict), axis=1)\n",
    "\n",
    "y_valid = np.ones(len(validation_data))\n",
    "y_test = [label[0] for label in test_dataset.predict_labels]\n",
    "\n",
    "error_df_mse = pd.DataFrame({'Reconstruction_error' : mse, 'True_class': y_valid})\n",
    "error_df_mae = pd.DataFrame({'Reconstruction_error' : mae, 'True_class': y_valid})\n",
    "error_test_df_mse = pd.DataFrame(({'Reconstruction_error' : test_mse, 'True_class': y_test}))\n",
    "error_test_df_mae = pd.DataFrame(({'Reconstruction_error' : test_mae, 'True_class': y_test}))\n",
    "\n",
    "precision_rt, recall_rt, threshold_rt = metrics.precision_recall_curve(error_df_mse['True_class'], error_df_mse['Reconstruction_error'])\n",
    "\n",
    "best_cnt_dic = abs(precision_rt - recall_rt)\n",
    "threshold = threshold_rt[np.argmin(best_cnt_dic)]\n",
    "\n",
    "print(precision_rt[np.argmin(best_cnt_dic)])\n",
    "print(recall_rt[np.argmin(best_cnt_dic)])\n",
    "print(threshold)\n",
    "\n",
    "plt.figure(figsize=(8,5))\n",
    "plt.plot(threshold_rt, precision_rt[1:], label='Precision')\n",
    "plt.plot(threshold_rt, recall_rt[1:], label='Recall')\n",
    "plt.xlabel('Threshold')\n",
    "plt.ylabel('Precision/Recall')\n",
    "plt.legend()\n",
    "plt.show()"
   ]
  },
  {
   "cell_type": "code",
   "execution_count": null,
   "metadata": {},
   "outputs": [],
   "source": [
    "# model = tf.keras.models.load_model('model/model_loss_test.h5')\n",
    "\n",
    "# X_pred = model.predict(X_train)\n",
    "\n",
    "# X_pred = X_pred.reshape(X_pred.shape[0], X_pred.shape[2]) \n",
    "# X_pred = pd.DataFrame(X_pred)\n",
    "\n",
    "# Xtrain = X_train.reshape(X_train.shape[0], X_train.shape[2]) \n",
    "\n",
    "# scored = pd.DataFrame()\n",
    "# scored['Loss_mae'] = np.mean(np.abs(X_pred-Xtrain), axis=1)\n",
    "# # scored['Loss_mae'] = np.mean(X_pred-Xtrain, axis=1) \n",
    "\n",
    "# Threshold = 0.017\n",
    "\n",
    "# plt.figure(figsize=(16,9), dpi=80)\n",
    "# plt.title('Loss Distribution', fontsize=16)\n",
    "# plt.xlim([0,1])\n",
    "# sns.distplot(scored['Loss_mae'], kde= True, color = 'blue')"
   ]
  },
  {
   "cell_type": "markdown",
   "metadata": {},
   "source": [
    "#### Predict data to log.csv"
   ]
  },
  {
   "cell_type": "code",
   "execution_count": 93,
   "metadata": {},
   "outputs": [
    {
     "name": "stdout",
     "output_type": "stream",
     "text": [
      "     Loss_mse  Threshold  Anomaly\n",
      "0    0.000230   0.000833    False\n",
      "1    0.000149   0.000833    False\n",
      "2    0.000158   0.000833    False\n",
      "3    0.000901   0.000833     True\n",
      "4    0.000235   0.000833    False\n",
      "..        ...        ...      ...\n",
      "776  0.000205   0.000833    False\n",
      "777  0.001976   0.000833     True\n",
      "778  0.000168   0.000833    False\n",
      "779  0.000615   0.000833    False\n",
      "780  0.000034   0.000833    False\n",
      "\n",
      "[781 rows x 3 columns]\n"
     ]
    }
   ],
   "source": [
    "threshold = np.mean(mse)*2\n",
    "\n",
    "scored_val = pd.DataFrame()\n",
    "scored_val['Loss_mse'] = mse\n",
    "scored_val['Threshold'] = threshold\n",
    "scored_val['Anomaly'] = scored_val['Loss_mse'] > scored_val['Threshold']\n",
    "print(scored_val)\n",
    "\n",
    "scored_val.to_csv(EXPERIMENT_DIR + '/validation_log.csv', sep=',')"
   ]
  },
  {
   "cell_type": "code",
   "execution_count": 94,
   "metadata": {},
   "outputs": [
    {
     "name": "stdout",
     "output_type": "stream",
     "text": [
      "      Loss_mse  Threshold  Anomaly\n",
      "0     0.000111   0.000833    False\n",
      "1     0.001432   0.000833     True\n",
      "2     0.000098   0.000833    False\n",
      "3     0.000052   0.000833    False\n",
      "4     0.000234   0.000833    False\n",
      "...        ...        ...      ...\n",
      "5054  0.559412   0.000833     True\n",
      "5055  1.927552   0.000833     True\n",
      "5056  2.505992   0.000833     True\n",
      "5057  0.745082   0.000833     True\n",
      "5058  1.945951   0.000833     True\n",
      "\n",
      "[5059 rows x 3 columns]\n"
     ]
    }
   ],
   "source": [
    "X_pred = pd.DataFrame(predict)\n",
    "\n",
    "scored = pd.DataFrame()\n",
    "scored['Loss_mse'] = test_mse\n",
    "scored['Threshold'] = threshold\n",
    "scored['Anomaly'] = scored['Loss_mse'] > scored['Threshold']\n",
    "print(scored)\n",
    "\n",
    "scored.to_csv(EXPERIMENT_DIR + '/test_log.csv', sep=',')"
   ]
  },
  {
   "cell_type": "code",
   "execution_count": 104,
   "metadata": {},
   "outputs": [
    {
     "data": {
      "image/png": "[encoded data removed]",
      "text/plain": [
       "<Figure size 432x288 with 1 Axes>"
      ]
     },
     "metadata": {
      "needs_background": "light"
     },
     "output_type": "display_data"
    }
   ],
   "source": [
    "fig, ax = plt.subplots()\n",
    "groups = error_test_df_mse.groupby(\"True_class\")\n",
    "\n",
    "for name, group in groups:\n",
    "    ax.plot(group.index, group.Reconstruction_error, marker='o', ms=3.5, linestyle='',\n",
    "    label=\"Abnomral\" if name == 0 else \"Normal\")\n",
    "\n",
    "ax.hlines(threshold, ax.get_xlim()[0], ax.get_xlim()[1], colors='orange', zorder=100, label=\"Threshold\")\n",
    "ax.legend()\n",
    "plt.title(\"Reconstuction error for different classes\")\n",
    "plt.ylabel(\"Reconsturction error\")\n",
    "plt.xlabel(\"Data point index\")\n",
    "plt.savefig(EXPERIMENT_DIR + '\\Reconstruction_error.png')\n",
    "plt.show()"
   ]
  },
  {
   "cell_type": "code",
   "execution_count": 105,
   "metadata": {},
   "outputs": [
    {
     "name": "stdout",
     "output_type": "stream",
     "text": [
      "Test Accuracy : 97.98379126309548%\n"
     ]
    },
    {
     "data": {
      "image/png": "[encoded data removed]",
      "text/plain": [
       "<Figure size 864x504 with 2 Axes>"
      ]
     },
     "metadata": {
      "needs_background": "light"
     },
     "output_type": "display_data"
    }
   ],
   "source": [
    "from sklearn.metrics import confusion_matrix\n",
    "\n",
    "y_true = test_dataset.predict_labels\n",
    "y_pred = [[0.0] if pred == True else [1.0] for pred in scored['Anomaly']]\n",
    "\n",
    "test_accuracy = np.sum([1 if true == pred else 0 for pred, true in zip(y_pred, y_true)]) / len(y_pred)\n",
    "print(f\"Test Accuracy : {(test_accuracy*100)}%\")\n",
    "\n",
    "cm = confusion_matrix(y_true, y_pred)\n",
    "labels = [\"Abnormal\", \"Normal\"]\n",
    "\n",
    "plt.figure(figsize = (12,7))\n",
    "sns.heatmap(cm, xticklabels=labels, yticklabels=labels, annot=True, fmt=\"d\")\n",
    "plt.title(\"Confusion Matrix\")\n",
    "plt.ylabel(\"True Class\")\n",
    "plt.xlabel(\"Predicted Class\")\n",
    "plt.savefig(EXPERIMENT_DIR + '\\confusion_matrix.png')"
   ]
  },
  {
   "cell_type": "code",
   "execution_count": null,
   "metadata": {},
   "outputs": [],
   "source": []
  }
 ],
 "metadata": {
  "interpreter": {
   "hash": "606393872d2ae1b4d07a146e24c2bc65abd4ef04da8af9056b6661ebfe58ccf8"
  },
  "kernelspec": {
   "display_name": "Python 3.7.11 ('keras')",
   "language": "python",
   "name": "python3"
  },
  "language_info": {
   "codemirror_mode": {
    "name": "ipython",
    "version": 3
   },
   "file_extension": ".py",
   "mimetype": "text/x-python",
   "name": "python",
   "nbconvert_exporter": "python",
   "pygments_lexer": "ipython3",
   "version": "3.7.11"
  },
  "orig_nbformat": 4
 },
 "nbformat": 4,
 "nbformat_minor": 2
}
